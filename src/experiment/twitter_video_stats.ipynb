{
 "cells": [
  {
   "cell_type": "code",
   "id": "initial_id",
   "metadata": {
    "collapsed": true,
    "ExecuteTime": {
     "end_time": "2025-02-03T08:05:02.057437Z",
     "start_time": "2025-02-03T08:05:01.712483Z"
    }
   },
   "source": [
    "import json\n",
    "import shutil\n",
    "from dataclasses import dataclass\n",
    "from pathlib import Path\n",
    "from typing import Optional\n",
    "\n",
    "import math\n",
    "import matplotlib.pyplot as plt\n",
    "import pandas as pd\n",
    "import seaborn as sns\n",
    "from sqlalchemy import select, BinaryExpression, func\n",
    "\n",
    "from big5_databases.databases.db_models import DBPost\n",
    "from big5_databases.databases.external import DBConfig, SQliteConnection\n",
    "from big5_databases.databases.platform_db_mgmt import PlatformDB\n",
    "from src.const import BASE_DATA_PATH\n",
    "\n",
    "stats_copy_path = BASE_DATA_PATH / \"stats_copy.sqlite\"\n",
    "from dataclasses import field\n",
    "from collections import Counter\n",
    "from datetime import date\n",
    "from big5_databases.databases.external import ClientTaskConfig\n",
    "from calendar import monthrange\n",
    "from datetime import datetime, time\n",
    "import pytz"
   ],
   "outputs": [],
   "execution_count": 1
  },
  {
   "metadata": {
    "ExecuteTime": {
     "end_time": "2025-02-03T08:05:02.315049Z",
     "start_time": "2025-02-03T08:05:02.070465Z"
    }
   },
   "cell_type": "code",
   "source": [
    "\n",
    "\n",
    "def make_stats_copy(db_path: Path):\n",
    "    shutil.copy(db_path, stats_copy_path)\n",
    "\n",
    "\n",
    "make_stats_copy(BASE_DATA_PATH / \"twitter_20_01_2025_backup.sqlite\")\n",
    "\n",
    "# old..\n",
    "platform_db = PlatformDB(stats_copy_path, DBConfig(db_connection=SQliteConnection(db_path=stats_copy_path)))\n",
    "\n",
    "db = platform_db.db_mgmt\n",
    "\n",
    "\n",
    "# todo use misc.helper\n",
    "def get_posts(platform: str,\n",
    "              conditions: Optional[BinaryExpression | list[BinaryExpression]] = None\n",
    "              ) -> list[DBPost]:\n",
    "    with db.get_session() as session:\n",
    "        # Start with a base query\n",
    "        query = select(\n",
    "            func.date(DBPost.date_created).label('day'),\n",
    "            func.count().label('count')\n",
    "        ).group_by(\n",
    "            func.date(DBPost.date_created)\n",
    "        )\n",
    "\n",
    "        # Platform is required\n",
    "        query = query.where(DBPost.platform == platform)\n",
    "\n",
    "        if conditions is not None:\n",
    "            if isinstance(conditions, list):\n",
    "                for condition in conditions:\n",
    "                    query = query.where(condition)\n",
    "            else:\n",
    "                query = query.where(conditions)\n",
    "\n",
    "        # Execute the query and return the results\n",
    "        result = session.execute(query)\n",
    "        return result.all()"
   ],
   "id": "2b71c187a9a25098",
   "outputs": [
    {
     "name": "stdout",
     "output_type": "stream",
     "text": [
      "2025-02-03 09:05:02,310 - ...Databases.databases.db_mgmt - DEBUG - creating db engine with sqlite:////home/rsoleyma/projects/platforms-clients/data/stats_copy.sqlite\n"
     ]
    }
   ],
   "execution_count": 2
  },
  {
   "metadata": {
    "ExecuteTime": {
     "end_time": "2025-02-03T08:05:02.365907Z",
     "start_time": "2025-02-03T08:05:02.363389Z"
    }
   },
   "cell_type": "code",
   "source": [
    "def get_year_counts(year: int) -> pd.Series:\n",
    "    results = get_posts(\"twitter\",\n",
    "                        conditions=DBPost.date_created.between(\n",
    "                            datetime(year, 1, 1),\n",
    "                            datetime(year + 1, 1, 1)\n",
    "                        ))\n",
    "\n",
    "    # Convert to pandas Series with days as index\n",
    "    counts = pd.Series({row[0]: row[1] for row in results})\n",
    "    return counts\n",
    "\n",
    "def get_year_month_counts(year: int, month: int) -> pd.Series:\n",
    "    results = get_posts(\"twitter\",\n",
    "                        conditions=DBPost.date_created.between(\n",
    "                            datetime(year, month, 1),\n",
    "                            datetime(year , month + 1, 1)\n",
    "                        ))\n",
    "\n",
    "    # Convert to pandas Series with days as index\n",
    "    counts = pd.Series({row[0]: row[1] for row in results})\n",
    "    return counts\n",
    "\n",
    "#get_year_month_counts(2023)"
   ],
   "id": "222f4f156fa8c873",
   "outputs": [],
   "execution_count": 3
  },
  {
   "metadata": {
    "ExecuteTime": {
     "end_time": "2025-02-03T08:05:02.409538Z",
     "start_time": "2025-02-03T08:05:02.404828Z"
    }
   },
   "cell_type": "code",
   "source": [
    "import matplotlib.dates as mdates\n",
    "\n",
    "\n",
    "def plot_daily_items(daily_counts: pd.Series, bars: bool = False):\n",
    "    plt.figure(figsize=(12, 6))\n",
    "\n",
    "    # Convert index to datetime if not already\n",
    "    if not isinstance(daily_counts.index, pd.DatetimeIndex):\n",
    "        daily_counts.index = pd.to_datetime(daily_counts.index)\n",
    "\n",
    "\n",
    "    if bars:\n",
    "        plt.bar(daily_counts.index, daily_counts.values,\n",
    "                color='blue', label='Posts', alpha=0.7)\n",
    "    else:\n",
    "        sns.lineplot(data=daily_counts, color='blue', label='Posts')\n",
    "\n",
    "    # Zero days highlight in red\n",
    "    zero_days = daily_counts[daily_counts == 0]\n",
    "    if not zero_days.empty:\n",
    "        if bars:\n",
    "            plt.bar(zero_days.index, zero_days.values,\n",
    "                    color='red', label='No Posts',\n",
    "                    zorder=5)\n",
    "        else:\n",
    "            plt.scatter(zero_days.index, zero_days.values,\n",
    "                color='red', s=10, label='No Posts',\n",
    "                zorder=5)\n",
    "\n",
    "    plt.title('Daily Post Count (Red Bars = No Posts)')\n",
    "    plt.xlabel('Date')\n",
    "    plt.ylabel('Number of Posts')\n",
    "\n",
    "    # Improved x-axis labels\n",
    "    plt.gca().xaxis.set_major_locator(mdates.MonthLocator())\n",
    "    plt.gca().xaxis.set_major_formatter(mdates.DateFormatter('%b %Y'))\n",
    "    plt.xticks(rotation=45)\n",
    "\n",
    "    plt.grid(True, alpha=0.3)\n",
    "    # plt.legend()\n",
    "    plt.tight_layout()\n",
    "    return plt\n"
   ],
   "id": "328c108f44da3492",
   "outputs": [],
   "execution_count": 4
  },
  {
   "metadata": {
    "ExecuteTime": {
     "end_time": "2025-02-03T08:05:02.924144Z",
     "start_time": "2025-02-03T08:05:02.703104Z"
    }
   },
   "cell_type": "code",
   "source": [
    "yc_2023 = get_year_counts(2023)\n",
    "plot = plot_daily_items(yc_2023)\n",
    "plot.show()\n",
    "\n",
    "\n",
    "# yc_m_2023 = get_year_month_counts(2023,1)\n",
    "# plot = plot_daily_items(yc_m_2023)\n",
    "# plot.show()\n",
    "# yc_m_2023"
   ],
   "id": "da4bd4107fc0da4f",
   "outputs": [
    {
     "data": {
      "text/plain": [
       "<Figure size 1200x600 with 1 Axes>"
      ],
      "image/png": "[encoded data removed]"
     },
     "metadata": {},
     "output_type": "display_data"
    }
   ],
   "execution_count": 5
  },
  {
   "metadata": {
    "ExecuteTime": {
     "end_time": "2025-01-25T01:14:45.673454Z",
     "start_time": "2025-01-25T01:14:45.666164Z"
    }
   },
   "cell_type": "code",
   "source": [
    "from big5_databases.databases.db_models import DBCollectionTask\n",
    "from sqlalchemy.orm import contains_eager\n",
    "\n",
    "\n",
    "# todo use misc.helper\n",
    "def get_posts_w_task(platform: str,\n",
    "                     conditions: Optional[BinaryExpression | list[BinaryExpression]] = None\n",
    "                     ) -> list[DBPost]:\n",
    "    with db.get_session() as session:\n",
    "        # Start with a base query\n",
    "        query = select(DBPost, DBCollectionTask).join(\n",
    "            DBCollectionTask,\n",
    "            DBPost.collection_task_id == DBCollectionTask.id\n",
    "        ).options(\n",
    "            contains_eager(DBPost.collection_task)\n",
    "        )\n",
    "\n",
    "        # Platform is required\n",
    "        query = query.where(DBPost.platform == platform)\n",
    "\n",
    "        if conditions is not None:\n",
    "            if isinstance(conditions, list):\n",
    "                for condition in conditions:\n",
    "                    query = query.where(condition)\n",
    "            else:\n",
    "                query = query.where(conditions)\n",
    "\n",
    "        # Execute the query and return the results\n",
    "        res = session.execute(query).all()\n",
    "        return [(post.model(), post_col_task.model()) for post, post_col_task in res]\n",
    "\n",
    "# jan_2022 = get_posts_w_task(\"youtube\", conditions=DBPost.date_created.between(\n",
    "#     datetime(2022, 1, 1),\n",
    "#     datetime(2022, 2, 1)\n",
    "# ))\n",
    "\n",
    "# SQLITE QUERY\n",
    "# date_created BETWEEN '2023-01-26 14:00:00' AND '2023-01-26 15:00:00'"
   ],
   "id": "22efa68a75c360ff",
   "outputs": [],
   "execution_count": 40
  },
  {
   "metadata": {
    "ExecuteTime": {
     "end_time": "2025-01-25T01:14:47.255679Z",
     "start_time": "2025-01-25T01:14:47.250999Z"
    }
   },
   "cell_type": "code",
   "source": [
    "def get_all_posts_sorted(platform: str,\n",
    "                         conditions: Optional[BinaryExpression | list[BinaryExpression]] = None\n",
    "                         ) -> list[DBPost]:\n",
    "    with db.get_session() as session:\n",
    "        # Start with a base query\n",
    "        query = select(DBPost)\n",
    "\n",
    "        # Platform is required\n",
    "        query = query.where(DBPost.platform == platform)\n",
    "\n",
    "        if conditions is not None:\n",
    "            if isinstance(conditions, list):\n",
    "                for condition in conditions:\n",
    "                    query = query.where(condition)\n",
    "            else:\n",
    "                query = query.where(conditions)\n",
    "\n",
    "        query.order_by(DBPost.date_created)\n",
    "        # Execute the query and return the results\n",
    "        result = session.execute(query)\n",
    "        for post in result.scalars():\n",
    "            yield post.model()\n"
   ],
   "id": "79091f83e016079b",
   "outputs": [],
   "execution_count": 41
  },
  {
   "metadata": {
    "ExecuteTime": {
     "end_time": "2025-01-25T01:14:52.534018Z",
     "start_time": "2025-01-25T01:14:48.267462Z"
    }
   },
   "cell_type": "code",
   "source": [
    "\n",
    "@dataclass\n",
    "class PostDayCollection:\n",
    "    day: date\n",
    "    hour_counts: Counter[int, int] = field(default_factory=Counter)\n",
    "\n",
    "    def add_post(self, post_hour: int):\n",
    "        self.hour_counts[post_hour] += 1\n",
    "\n",
    "    def all_hours(self) -> bool:\n",
    "        return len(day.hour_counts) == 24\n",
    "\n",
    "    def is_full(self, min_count: int = 3) -> bool:\n",
    "        return all(count >= min_count for count in self.hour_counts.values())\n",
    "\n",
    "    def get_incomplete_hours(self, min_count: int = 3) -> list[int]:\n",
    "        incomplete_hours = []\n",
    "        for h in range(0, 24):\n",
    "            if self.hour_counts.get(h, 0) < min_count:\n",
    "                incomplete_hours.append(h)\n",
    "        return incomplete_hours\n",
    "\n",
    "\n",
    "@dataclass\n",
    "class PostCollectionCounts:\n",
    "    year: int\n",
    "    days: dict[date, PostDayCollection] = field(default_factory=dict)\n",
    "    total_posts = 0\n",
    "\n",
    "    def add_post(self, post: DBPost):\n",
    "        post_date = post.date_created.date()\n",
    "        if post_date.year != self.year:\n",
    "            return  # Skip posts from other years\n",
    "        post_hour = post.date_created.hour\n",
    "        self.total_posts += 1\n",
    "        if post_date not in self.days:\n",
    "            self.days[post_date] = PostDayCollection(day=post_date)\n",
    "        self.days[post_date].add_post(post_hour)\n",
    "\n",
    "    def get_incomplete_days(self, min_count: int) -> list[tuple[date, list[int]]]:\n",
    "        incomplete_day_hours: list[tuple[date, list[int]]] = []\n",
    "        for day in self.days.values():\n",
    "            incomplete_hours = day.get_incomplete_hours(min_count)\n",
    "            if incomplete_hours:\n",
    "                incomplete_day_hours.append((day.day, incomplete_hours))\n",
    "        return incomplete_day_hours\n",
    "\n",
    "    @property\n",
    "    def get_all_hours(self):\n",
    "        return sum(len(day.hour_counts) for day in self.days.values())\n",
    "\n",
    "YEAR = 2023\n",
    "collection = PostCollectionCounts(YEAR)\n",
    "\n",
    "all_posts = get_all_posts_sorted(\"twitter\")\n",
    "for post in all_posts:\n",
    "    collection.add_post(post)\n",
    "#\n",
    "incomplete_days = collection.get_incomplete_days(3)\n",
    "print(incomplete_days)\n",
    "# print(collection.get_all_hours)\n"
   ],
   "id": "a1d97261f354d44e",
   "outputs": [
    {
     "name": "stdout",
     "output_type": "stream",
     "text": [
      "[(datetime.date(2023, 11, 27), [6, 7, 8, 9, 10, 11, 12, 13, 14, 15, 16, 17, 18, 19, 20, 21, 22, 23]), (datetime.date(2023, 12, 17), [21]), (datetime.date(2023, 12, 27), [18, 23]), (datetime.date(2023, 12, 29), [9]), (datetime.date(2023, 12, 30), [4])]\n"
     ]
    }
   ],
   "execution_count": 42
  },
  {
   "metadata": {
    "ExecuteTime": {
     "end_time": "2025-01-24T23:56:52.175842Z",
     "start_time": "2025-01-24T23:56:52.173927Z"
    }
   },
   "cell_type": "code",
   "source": "# sorted(collection.days[date(2023, 1, 26)].hour_counts.items())",
   "id": "2bcf7273a82d0150",
   "outputs": [],
   "execution_count": 33
  },
  {
   "metadata": {
    "ExecuteTime": {
     "end_time": "2025-01-24T23:58:18.975162Z",
     "start_time": "2025-01-24T23:58:18.964528Z"
    }
   },
   "cell_type": "code",
   "source": [
    "all_tasks = []\n",
    "idx = 0\n",
    "\n",
    "for incomplete_day, hours in incomplete_days:\n",
    "    for hour in hours:\n",
    "        # Create datetime with UTC timezone\n",
    "        start_time = datetime.combine(incomplete_day, time(hour, 2), tzinfo=pytz.UTC)\n",
    "        end_time = datetime.combine(incomplete_day, time(hour, 58), tzinfo=pytz.UTC)\n",
    "\n",
    "        start_iso = start_time.isoformat()\n",
    "        end_iso = end_time.isoformat()\n",
    "        task = ClientTaskConfig.model_validate({\n",
    "            \"platform\": \"twitter\",\n",
    "            \"task_name\": f\"twitter_2023_final_fix_3_{str(idx)}\",\n",
    "            \"collection_config\": {\n",
    "                \"query\": \"\",\n",
    "                \"lang\": \"en\",\n",
    "                \"filter_replies\": True,\n",
    "                \"filter_quotes\": True,\n",
    "                \"limit\": 3,\n",
    "                \"from_time\": start_iso,\n",
    "                \"to_time\": end_iso,\n",
    "            }\n",
    "        })\n",
    "        idx += 1\n",
    "        all_tasks.append(task)\n",
    "\n",
    "\n",
    "json.dump(\n",
    "    [\n",
    "        t.model_dump(exclude_unset=False, exclude_none=True, exclude_defaults=True) for t in all_tasks\n",
    "    ],\n",
    "    (BASE_DATA_PATH / \"tasks/twitter_2023_missing.json\").open(\"w\", encoding=\"utf-8\"))\n",
    "# all_tasks[0]"
   ],
   "id": "6340e122459d8807",
   "outputs": [],
   "execution_count": 35
  },
  {
   "metadata": {
    "ExecuteTime": {
     "end_time": "2025-01-24T10:33:22.456196Z",
     "start_time": "2025-01-24T10:33:22.451286Z"
    }
   },
   "cell_type": "code",
   "source": [
    "\n",
    "# find missing days of a year\n",
    "collection.days.keys()\n",
    "\n",
    "for month in range(1, 13):\n",
    "# get days of month\n",
    "    days = monthrange(YEAR, month)[1]\n",
    "d = date(YEAR, month, days)\n",
    "if not d in collection.days:\n",
    "    print(d)\n",
    "# for day in :\n",
    "#     if date(2023, month, day) not in collection.days:\n",
    "#         print(month, day)"
   ],
   "id": "4ef8ddb068c6001e",
   "outputs": [],
   "execution_count": 9
  },
  {
   "metadata": {
    "ExecuteTime": {
     "end_time": "2025-01-23T09:33:12.969494Z",
     "start_time": "2025-01-23T09:33:12.965296Z"
    }
   },
   "cell_type": "code",
   "source": [
    "for day in collection.days.values():\n",
    "    min_ = math.inf\n",
    "max_ = 0\n",
    "for h, hour_c in day.hour_counts.items():\n",
    "    min_ = min(min_, hour_c)\n",
    "max_ = max(max_, hour_c)\n",
    "if hour_c < 3:\n",
    "    print(day.day, h, hour_c)\n",
    "    #print(day.day, min_,max_)"
   ],
   "id": "fbd60f0fed2c5114",
   "outputs": [
    {
     "name": "stdout",
     "output_type": "stream",
     "text": [
      "2023-11-25 14 1\n",
      "2023-12-15 21 1\n",
      "2023-12-16 15 2\n",
      "2023-12-19 8 1\n",
      "2023-12-19 15 1\n",
      "2023-12-19 22 2\n",
      "2023-12-21 11 1\n",
      "2023-12-22 3 2\n",
      "2023-12-22 4 1\n",
      "2023-12-22 6 1\n",
      "2023-12-24 5 1\n",
      "2023-12-24 9 2\n",
      "2023-12-24 11 1\n",
      "2023-12-25 0 2\n",
      "2023-12-25 1 1\n",
      "2023-12-25 20 2\n",
      "2023-12-25 21 2\n",
      "2023-12-25 23 2\n",
      "2023-12-26 11 1\n",
      "2023-12-27 3 1\n",
      "2023-12-27 10 2\n",
      "2023-12-27 13 2\n",
      "2023-12-28 0 1\n",
      "2023-12-29 3 2\n",
      "2023-12-29 8 2\n",
      "2023-12-30 4 1\n",
      "2023-12-30 9 2\n",
      "2023-12-30 12 1\n",
      "2023-12-30 15 2\n",
      "2023-12-30 20 2\n"
     ]
    }
   ],
   "execution_count": 9
  },
  {
   "metadata": {},
   "cell_type": "code",
   "outputs": [],
   "execution_count": null,
   "source": "",
   "id": "ef6b94ae09e300c5"
  }
 ],
 "metadata": {
  "kernelspec": {
   "display_name": "Python 3",
   "language": "python",
   "name": "python3"
  },
  "language_info": {
   "codemirror_mode": {
    "name": "ipython",
    "version": 2
   },
   "file_extension": ".py",
   "mimetype": "text/x-python",
   "name": "python",
   "nbconvert_exporter": "python",
   "pygments_lexer": "ipython2",
   "version": "2.7.6"
  }
 },
 "nbformat": 4,
 "nbformat_minor": 5
}
